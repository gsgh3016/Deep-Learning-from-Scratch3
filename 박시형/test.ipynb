{
 "cells": [
  {
   "cell_type": "code",
   "execution_count": 1,
   "metadata": {},
   "outputs": [],
   "source": [
    "import numpy as np\n",
    "\n",
    "def sum_to(x, shape):\n",
    "    \"\"\"Sum elements along axes to output an array of a given shape.\n",
    "    Args:\n",
    "        x (ndarray): Input array.\n",
    "        shape:\n",
    "    Returns:\n",
    "        ndarray: Output array of the shape.\n",
    "    \"\"\"\n",
    "    ndim = len(shape)\n",
    "    lead = x.ndim - ndim\n",
    "    lead_axis = tuple(range(lead))\n",
    "\n",
    "    axis = tuple([i + lead for i, sx in enumerate(shape) if sx == 1])\n",
    "    y = x.sum(lead_axis + axis, keepdims=True)\n",
    "    if lead > 0:\n",
    "      y = y.squeeze(lead_axis)\n",
    "    return y"
   ]
  },
  {
   "cell_type": "code",
   "execution_count": null,
   "metadata": {},
   "outputs": [],
   "source": []
  }
 ],
 "metadata": {
  "kernelspec": {
   "display_name": "Deep-Learning-from-Scratch3-jkMvLhLT",
   "language": "python",
   "name": "python3"
  },
  "language_info": {
   "codemirror_mode": {
    "name": "ipython",
    "version": 3
   },
   "file_extension": ".py",
   "mimetype": "text/x-python",
   "name": "python",
   "nbconvert_exporter": "python",
   "pygments_lexer": "ipython3",
   "version": "3.9.13"
  },
  "orig_nbformat": 4
 },
 "nbformat": 4,
 "nbformat_minor": 2
}
